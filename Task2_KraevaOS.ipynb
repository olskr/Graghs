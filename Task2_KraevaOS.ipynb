{
  "nbformat": 4,
  "nbformat_minor": 0,
  "metadata": {
    "colab": {
      "provenance": []
    },
    "kernelspec": {
      "name": "python3",
      "display_name": "Python 3"
    },
    "language_info": {
      "name": "python"
    }
  },
  "cells": [
    {
      "cell_type": "code",
      "source": [
        "#pip install python-graphblas[default]"
      ],
      "metadata": {
        "id": "n1yHsafHAoU9"
      },
      "execution_count": 87,
      "outputs": []
    },
    {
      "cell_type": "markdown",
      "source": [
        "Активация библиотек:"
      ],
      "metadata": {
        "id": "j4Lt_zN6AsGH"
      }
    },
    {
      "cell_type": "code",
      "source": [
        "import graphblas as gb\n",
        "gb.init(\"suitesparse\", blocking=False)\n",
        "from graphblas import Matrix, dtypes, unary, binary, monoid, semiring, Recorder\n",
        "from graphblas.io import mmread\n",
        "import os\n",
        "import numpy as np\n",
        "import random\n",
        "from graphblas import Matrix, Vector, Scalar"
      ],
      "metadata": {
        "id": "Xc5bFmXaApxK"
      },
      "execution_count": 88,
      "outputs": []
    },
    {
      "cell_type": "markdown",
      "source": [
        " Используя python-graphblas реализовать функцию **обхода ориентированного графа (MSBFS-Levels) в ширину из нескольких заданных стартовых вершин.** </br>\n",
        " +\n",
        "Функция принимает представление графа, удобное для неё (загрузка, конвертация реализованы отдельно) и массив номеров стартовых вершин. </br>\n",
        " + Функция возвращает массив пар: стартовая вершина, и массив (levels), где для каждой вершины указано, на каком уровне она достижима из этой стартовой. Стартовая вершина достижима на нулевом уровне, если вершина не достижима, то значение соответствующей ячейки сделайте равной -1."
      ],
      "metadata": {
        "id": "oGpic6Ls_pPi"
      }
    },
    {
      "cell_type": "code",
      "source": [
        "def MSBFS_Levels(A, s):\n",
        "\n",
        "    # Проверка графа на ориентированность:\n",
        "    if A.isequal(A.T) and A.nvals > 0:\n",
        "        raise Exception ('Граф неориентированный, функция работает только с ориентированными графами')\n",
        "\n",
        "    # Задаем начальные значения:\n",
        "    n = A.nrows # Количнство вершин\n",
        "    m = s.size # Количество стартовых вершин\n",
        "    result = Matrix(dtypes.INT32, m, n) # Размер возвращаемой матрицы\n",
        "    f = Matrix(bool, m, n) # Фронт\n",
        "    succ = Vector(bool, m)\n",
        "    for i in range(m):\n",
        "        f[i,s[i]] << True\n",
        "\n",
        "    # Обход графа в ширину:\n",
        "    level = 0 # level in BFS traversal\n",
        "    while True:\n",
        "      # Заполняем уровни:\n",
        "      result(mask=f.V) << level\n",
        "      # Рассчет next frontier:\n",
        "      f(~result.S, replace=True) << f.mxm(A, semiring.lor_land)\n",
        "\n",
        "      for i in range(m):\n",
        "          # Заполняем вектор наличия свободных вершин:\n",
        "          succ[i] << f[i,:].reduce(monoid.lor, allow_empty=False)\n",
        "\n",
        "      truee = True\n",
        "      # Пора останавливать цикл?\n",
        "      for i in range(m):\n",
        "          if succ[i]:\n",
        "          # Проверка до первого true\n",
        "              truee = False\n",
        "              break\n",
        "      if truee:\n",
        "          break\n",
        "      level += 1 # Счетчик уровней\n",
        "\n",
        "    # Вывод результата:\n",
        "    return {s[i]: np.array([-1 if result[i, j].value is None else result[i, j].value for j in range(n)]) for i in range(m)}"
      ],
      "metadata": {
        "id": "JnVqO2FIAfKf"
      },
      "execution_count": 89,
      "outputs": []
    },
    {
      "cell_type": "markdown",
      "source": [
        "Используя python-graphblas реализовать функцию **обхода ориентированного графа (MSBFS-Parents) в ширину из нескольких заданных стартовых вершин.** </br>\n",
        " + Функция принимает представление графа, удобное для неё (загрузка, конвертация реализованы отдельно) и массив номеров стартовых вершин. </br>\n",
        " + Функция возвращает массив пар: стартовая вершина, и массив (parents), где для каждой вершины графа указано, из какой вершины мы пришли в эту по кратчайшему пути из стартовой вершины. При этом для самой стартовой вершины такое значение взять равное -1, а для недостижимых вершин взять равное -2. При наличии нескольких возможных значений в массивах parents брать наименьшее."
      ],
      "metadata": {
        "id": "lsUVlwwh_rWo"
      }
    },
    {
      "cell_type": "code",
      "source": [
        "def MSBFS_Parents(A, s):\n",
        "\n",
        "     # Проверка графа на ориентированность:\n",
        "    if A.isequal(A.T) and A.nvals > 0:\n",
        "        raise Exception ('Граф неориентированный, функция работает только с ориентированными графами')\n",
        "    # Задаем начальные значения:\n",
        "    N = A.nrows # Количнство вершин\n",
        "    M = s.size # Количество стартовых вершин\n",
        "    # Матрица для значений вершин:\n",
        "    index_ramp = Matrix(dtypes.UINT64, M, N)\n",
        "    for j in range(N):\n",
        "        index_ramp[:,j] << j\n",
        "\n",
        "    parents = Matrix(dtypes.UINT64, M, N)\n",
        "    wavefront = Matrix(dtypes.UINT64, M, N)\n",
        "\n",
        "    # Вставим изначальные (стартовые) значения в матрицы parents, wavefront:\n",
        "    for i in range(M):\n",
        "        parents[i, s[i]] << s[i]\n",
        "        wavefront[i, s[i]] << 1\n",
        "\n",
        "    # Обход графа:\n",
        "    while wavefront.nvals > 0:\n",
        "        # Преобразуем сохраненные значения в wavefront в их индекс:\n",
        "        wavefront << index_ramp.ewise_mult(wavefront, binary.first)\n",
        "        # Маска списка parents:\n",
        "        wavefront(~parents.S, replace=True) << wavefront.mxm(A, semiring.min_first)\n",
        "        # Объединение : parents += wavefront\n",
        "        parents(binary.plus) << wavefront\n",
        "\n",
        "    # Результат (нет родителя: -2; родитель - стартовая вершина: -1)\n",
        "    res = {\n",
        "        s[i]: np.array([\n",
        "            -2 if parents[i, j].value is None else (-1 if j == s[i] else parents[i, j].value)\n",
        "            for j in range(N)\n",
        "        ])\n",
        "        for i in range(M)\n",
        "    }\n",
        "    return res"
      ],
      "metadata": {
        "id": "DyB2FZwJAftY"
      },
      "execution_count": 90,
      "outputs": []
    },
    {
      "cell_type": "markdown",
      "source": [
        "Добавить тесты для проверки корректности полученных реализаций."
      ],
      "metadata": {
        "id": "27x3RLS6_t9H"
      }
    },
    {
      "cell_type": "markdown",
      "source": [
        "Проверим корректную отработку Exception:"
      ],
      "metadata": {
        "id": "yPoKsvgRk2Cs"
      }
    },
    {
      "cell_type": "code",
      "source": [
        "m = np.array([\n",
        "    [0, 1, 1],\n",
        "    [1, 0, 1],\n",
        "    [1, 1, 0]\n",
        "]) # Неориентированный граф\n",
        "matrix = gb.Matrix.from_dense(m, missing_value=0)\n",
        "gb.viz.draw(matrix)"
      ],
      "metadata": {
        "id": "IYZotTVtAgtL",
        "colab": {
          "base_uri": "https://localhost:8080/",
          "height": 406
        },
        "outputId": "25c56893-33e4-43e1-cfa8-ccc5d05318c9"
      },
      "execution_count": 91,
      "outputs": [
        {
          "output_type": "display_data",
          "data": {
            "text/plain": [
              "<Figure size 640x480 with 1 Axes>"
            ],
            "image/png": "[encoded data removed]"
          },
          "metadata": {}
        }
      ]
    },
    {
      "cell_type": "code",
      "source": [
        "print(MSBFS_Levels(matrix, np.array([0, 1, 2])))"
      ],
      "metadata": {
        "colab": {
          "base_uri": "https://localhost:8080/",
          "height": 263
        },
        "id": "YNnIl7b5lC0m",
        "outputId": "201dffdf-e6b5-4e4c-c302-4e331527d5c9"
      },
      "execution_count": 92,
      "outputs": [
        {
          "output_type": "error",
          "ename": "Exception",
          "evalue": "Граф неориентированный, функция работает только с ориентированными графами",
          "traceback": [
            "\u001b[0;31m---------------------------------------------------------------------------\u001b[0m",
            "\u001b[0;31mException\u001b[0m                                 Traceback (most recent call last)",
            "\u001b[0;32m<ipython-input-92-033d19121c62>\u001b[0m in \u001b[0;36m<cell line: 1>\u001b[0;34m()\u001b[0m\n\u001b[0;32m----> 1\u001b[0;31m \u001b[0mprint\u001b[0m\u001b[0;34m(\u001b[0m\u001b[0mMSBFS_Levels\u001b[0m\u001b[0;34m(\u001b[0m\u001b[0mmatrix\u001b[0m\u001b[0;34m,\u001b[0m \u001b[0mnp\u001b[0m\u001b[0;34m.\u001b[0m\u001b[0marray\u001b[0m\u001b[0;34m(\u001b[0m\u001b[0;34m[\u001b[0m\u001b[0;36m0\u001b[0m\u001b[0;34m,\u001b[0m \u001b[0;36m1\u001b[0m\u001b[0;34m,\u001b[0m \u001b[0;36m2\u001b[0m\u001b[0;34m]\u001b[0m\u001b[0;34m)\u001b[0m\u001b[0;34m)\u001b[0m\u001b[0;34m)\u001b[0m\u001b[0;34m\u001b[0m\u001b[0;34m\u001b[0m\u001b[0m\n\u001b[0m",
            "\u001b[0;32m<ipython-input-89-54407521057d>\u001b[0m in \u001b[0;36mMSBFS_Levels\u001b[0;34m(A, s)\u001b[0m\n\u001b[1;32m      3\u001b[0m     \u001b[0;31m# Проверка графа на ориентированность:\u001b[0m\u001b[0;34m\u001b[0m\u001b[0;34m\u001b[0m\u001b[0m\n\u001b[1;32m      4\u001b[0m     \u001b[0;32mif\u001b[0m \u001b[0mA\u001b[0m\u001b[0;34m.\u001b[0m\u001b[0misequal\u001b[0m\u001b[0;34m(\u001b[0m\u001b[0mA\u001b[0m\u001b[0;34m.\u001b[0m\u001b[0mT\u001b[0m\u001b[0;34m)\u001b[0m \u001b[0;32mand\u001b[0m \u001b[0mA\u001b[0m\u001b[0;34m.\u001b[0m\u001b[0mnvals\u001b[0m \u001b[0;34m>\u001b[0m \u001b[0;36m0\u001b[0m\u001b[0;34m:\u001b[0m\u001b[0;34m\u001b[0m\u001b[0;34m\u001b[0m\u001b[0m\n\u001b[0;32m----> 5\u001b[0;31m         \u001b[0;32mraise\u001b[0m \u001b[0mException\u001b[0m \u001b[0;34m(\u001b[0m\u001b[0;34m'Граф неориентированный, функция работает только с ориентированными графами'\u001b[0m\u001b[0;34m)\u001b[0m\u001b[0;34m\u001b[0m\u001b[0;34m\u001b[0m\u001b[0m\n\u001b[0m\u001b[1;32m      6\u001b[0m \u001b[0;34m\u001b[0m\u001b[0m\n\u001b[1;32m      7\u001b[0m     \u001b[0;31m# Задаем начальные значения:\u001b[0m\u001b[0;34m\u001b[0m\u001b[0;34m\u001b[0m\u001b[0m\n",
            "\u001b[0;31mException\u001b[0m: Граф неориентированный, функция работает только с ориентированными графами"
          ]
        }
      ]
    },
    {
      "cell_type": "code",
      "source": [
        "print(MSBFS_Parents(matrix, np.array([0, 1, 2])))"
      ],
      "metadata": {
        "colab": {
          "base_uri": "https://localhost:8080/",
          "height": 263
        },
        "id": "xyo2XIT8j_z5",
        "outputId": "9a31397f-f605-423d-9bf1-20fe4203fdb3"
      },
      "execution_count": 93,
      "outputs": [
        {
          "output_type": "error",
          "ename": "Exception",
          "evalue": "Граф неориентированный, функция работает только с ориентированными графами",
          "traceback": [
            "\u001b[0;31m---------------------------------------------------------------------------\u001b[0m",
            "\u001b[0;31mException\u001b[0m                                 Traceback (most recent call last)",
            "\u001b[0;32m<ipython-input-93-5b2bd3bcd5cb>\u001b[0m in \u001b[0;36m<cell line: 1>\u001b[0;34m()\u001b[0m\n\u001b[0;32m----> 1\u001b[0;31m \u001b[0mprint\u001b[0m\u001b[0;34m(\u001b[0m\u001b[0mMSBFS_Parents\u001b[0m\u001b[0;34m(\u001b[0m\u001b[0mmatrix\u001b[0m\u001b[0;34m,\u001b[0m \u001b[0mnp\u001b[0m\u001b[0;34m.\u001b[0m\u001b[0marray\u001b[0m\u001b[0;34m(\u001b[0m\u001b[0;34m[\u001b[0m\u001b[0;36m0\u001b[0m\u001b[0;34m,\u001b[0m \u001b[0;36m1\u001b[0m\u001b[0;34m,\u001b[0m \u001b[0;36m2\u001b[0m\u001b[0;34m]\u001b[0m\u001b[0;34m)\u001b[0m\u001b[0;34m)\u001b[0m\u001b[0;34m)\u001b[0m\u001b[0;34m\u001b[0m\u001b[0;34m\u001b[0m\u001b[0m\n\u001b[0m",
            "\u001b[0;32m<ipython-input-90-936b7d52cd0e>\u001b[0m in \u001b[0;36mMSBFS_Parents\u001b[0;34m(A, s)\u001b[0m\n\u001b[1;32m      3\u001b[0m      \u001b[0;31m# Проверка графа на ориентированность:\u001b[0m\u001b[0;34m\u001b[0m\u001b[0;34m\u001b[0m\u001b[0m\n\u001b[1;32m      4\u001b[0m     \u001b[0;32mif\u001b[0m \u001b[0mA\u001b[0m\u001b[0;34m.\u001b[0m\u001b[0misequal\u001b[0m\u001b[0;34m(\u001b[0m\u001b[0mA\u001b[0m\u001b[0;34m.\u001b[0m\u001b[0mT\u001b[0m\u001b[0;34m)\u001b[0m \u001b[0;32mand\u001b[0m \u001b[0mA\u001b[0m\u001b[0;34m.\u001b[0m\u001b[0mnvals\u001b[0m \u001b[0;34m>\u001b[0m \u001b[0;36m0\u001b[0m\u001b[0;34m:\u001b[0m\u001b[0;34m\u001b[0m\u001b[0;34m\u001b[0m\u001b[0m\n\u001b[0;32m----> 5\u001b[0;31m         \u001b[0;32mraise\u001b[0m \u001b[0mException\u001b[0m \u001b[0;34m(\u001b[0m\u001b[0;34m'Граф неориентированный, функция работает только с ориентированными графами'\u001b[0m\u001b[0;34m)\u001b[0m\u001b[0;34m\u001b[0m\u001b[0;34m\u001b[0m\u001b[0m\n\u001b[0m\u001b[1;32m      6\u001b[0m     \u001b[0;31m# Задаем начальные значения:\u001b[0m\u001b[0;34m\u001b[0m\u001b[0;34m\u001b[0m\u001b[0m\n\u001b[1;32m      7\u001b[0m     \u001b[0mN\u001b[0m \u001b[0;34m=\u001b[0m \u001b[0mA\u001b[0m\u001b[0;34m.\u001b[0m\u001b[0mnrows\u001b[0m \u001b[0;31m# Количнство вершин\u001b[0m\u001b[0;34m\u001b[0m\u001b[0;34m\u001b[0m\u001b[0m\n",
            "\u001b[0;31mException\u001b[0m: Граф неориентированный, функция работает только с ориентированными графами"
          ]
        }
      ]
    },
    {
      "cell_type": "code",
      "source": [
        "m = np.array([\n",
        "    [0, 1, 0],\n",
        "    [0, 0, 1],\n",
        "    [1, 0, 0]\n",
        "]) # Ориентированный граф\n",
        "matrix = gb.Matrix.from_dense(m, missing_value=0)\n",
        "gb.viz.draw(matrix)"
      ],
      "metadata": {
        "colab": {
          "base_uri": "https://localhost:8080/",
          "height": 406
        },
        "id": "R2QcMrL0kEf4",
        "outputId": "3a65da50-d23c-4c75-d826-a22a75dc539e"
      },
      "execution_count": 94,
      "outputs": [
        {
          "output_type": "display_data",
          "data": {
            "text/plain": [
              "<Figure size 640x480 with 1 Axes>"
            ],
            "image/png": "[encoded data removed]"
          },
          "metadata": {}
        }
      ]
    },
    {
      "cell_type": "code",
      "source": [
        "print(MSBFS_Levels(matrix, np.array([0, 1, 2])))"
      ],
      "metadata": {
        "colab": {
          "base_uri": "https://localhost:8080/"
        },
        "id": "DQHlkmNfkICM",
        "outputId": "c55fe273-74d0-498e-bb4d-e85f413aaf11"
      },
      "execution_count": 95,
      "outputs": [
        {
          "output_type": "stream",
          "name": "stdout",
          "text": [
            "{0: array([0, 1, 2]), 1: array([2, 0, 1]), 2: array([1, 2, 0])}\n"
          ]
        }
      ]
    },
    {
      "cell_type": "code",
      "source": [
        "print(MSBFS_Parents(matrix, np.array([0, 1, 2])))"
      ],
      "metadata": {
        "colab": {
          "base_uri": "https://localhost:8080/"
        },
        "id": "FXQY1gTIkKWH",
        "outputId": "b6030600-919e-4053-9fb1-e2f4318abd80"
      },
      "execution_count": 96,
      "outputs": [
        {
          "output_type": "stream",
          "name": "stdout",
          "text": [
            "{0: array([-1,  0,  1]), 1: array([ 2, -1,  1]), 2: array([ 2,  0, -1])}\n"
          ]
        }
      ]
    },
    {
      "cell_type": "markdown",
      "source": [
        "(+2 балла) Провести экспериментальное исследование полученных реализаций на некоторых больших графах в формате Matrix Market с сайта SuiteSparse Matrix Collection и на случайных сгенерированных. При этом описать зависимость времени работы всех полученных реализаций от размеров графа, его степени разреженности, количестве стартовых вершин."
      ],
      "metadata": {
        "id": "yYs51O9M_v7s"
      }
    },
    {
      "cell_type": "markdown",
      "source": [
        "*Тестирование на графах с SuiteSparse Matrix Collection:*"
      ],
      "metadata": {
        "id": "VQoTySttyRpj"
      }
    },
    {
      "cell_type": "code",
      "source": [
        "def GenStartPoint(cnt_vertex, frc_vertex):\n",
        "    # cnt_vertex - количество вершин, frc_vertex - доля стартовых вершин:\n",
        "    return np.array(random.sample(range(cnt_vertex), int(frc_vertex / cnt_vertex * 100)))\n",
        "\n",
        "def GetTests(A, s):\n",
        "    print('MSBFS_Levels:')\n",
        "    %timeit MSBFS_Levels(A, s)\n",
        "    print('MSBFS_Parents:')\n",
        "    %timeit MSBFS_Parents(A, s)\n",
        "    print()"
      ],
      "metadata": {
        "id": "aJKDfka-AhP0"
      },
      "execution_count": 98,
      "outputs": []
    },
    {
      "cell_type": "code",
      "source": [
        "frc_vertex = [5, 40, 75, 95] # Доля стартовых вершин\n",
        "basepath = '/content/data_matrix'\n",
        "data = os.listdir(basepath)\n",
        "for file in data:\n",
        "    path = os.path.join(basepath, file)\n",
        "    if os.path.isdir(path):\n",
        "        continue\n",
        "\n",
        "    M = mmread(f'/content/data_matrix/{file}')\n",
        "    print(file)\n",
        "    cnt_vertex = M.shape[0]\n",
        "    cnt_edge = len(M.to_coo()[0])\n",
        "    degreee = cnt_edge / (cnt_vertex * (cnt_vertex - 1))\n",
        "    print(f'Вершины: {cnt_vertex}, ребра: {cnt_edge}, степень разреженности: {degreee:.3f}')\n",
        "\n",
        "    # Корреляция времени и количества стартовых вершин:\n",
        "    for i in frc_vertex:\n",
        "        print(f'Стартовые вершины: {int(i / 100 * M.nrows)}')\n",
        "        GetTests(M, GenStartPoint(M.nrows, i))\n",
        "    print('----------------------------')"
      ],
      "metadata": {
        "colab": {
          "base_uri": "https://localhost:8080/"
        },
        "id": "7sNowQyspMkK",
        "outputId": "a91e7cf1-15a3-4e96-fd6f-df8557dad1c1"
      },
      "execution_count": 99,
      "outputs": [
        {
          "output_type": "stream",
          "name": "stdout",
          "text": [
            "EVA.mtx\n",
            "Вершины: 8497, ребра: 6726, степень разреженности: 0.000\n",
            "Стартовые вершины: 424\n",
            "MSBFS_Levels:\n",
            "486 µs ± 10.7 µs per loop (mean ± std. dev. of 7 runs, 1000 loops each)\n",
            "MSBFS_Parents:\n",
            "707 ms ± 157 ms per loop (mean ± std. dev. of 7 runs, 1 loop each)\n",
            "\n",
            "Стартовые вершины: 3398\n",
            "MSBFS_Levels:\n",
            "480 µs ± 9.21 µs per loop (mean ± std. dev. of 7 runs, 1000 loops each)\n",
            "MSBFS_Parents:\n",
            "606 ms ± 104 ms per loop (mean ± std. dev. of 7 runs, 1 loop each)\n",
            "\n",
            "Стартовые вершины: 6372\n",
            "MSBFS_Levels:\n",
            "544 µs ± 124 µs per loop (mean ± std. dev. of 7 runs, 1000 loops each)\n",
            "MSBFS_Parents:\n",
            "562 ms ± 9.73 ms per loop (mean ± std. dev. of 7 runs, 1 loop each)\n",
            "\n",
            "Стартовые вершины: 8072\n",
            "MSBFS_Levels:\n",
            "310 ms ± 9.87 ms per loop (mean ± std. dev. of 7 runs, 1 loop each)\n",
            "MSBFS_Parents:\n",
            "1.01 s ± 129 ms per loop (mean ± std. dev. of 7 runs, 1 loop each)\n",
            "\n",
            "----------------------------\n",
            "EPA.mtx\n",
            "Вершины: 4772, ребра: 8965, степень разреженности: 0.000\n",
            "Стартовые вершины: 238\n",
            "MSBFS_Levels:\n",
            "419 µs ± 8.73 µs per loop (mean ± std. dev. of 7 runs, 1000 loops each)\n",
            "MSBFS_Parents:\n",
            "381 ms ± 81.5 ms per loop (mean ± std. dev. of 7 runs, 1 loop each)\n",
            "\n",
            "Стартовые вершины: 1908\n",
            "MSBFS_Levels:\n",
            "468 µs ± 105 µs per loop (mean ± std. dev. of 7 runs, 1000 loops each)\n",
            "MSBFS_Parents:\n",
            "307 ms ± 13.1 ms per loop (mean ± std. dev. of 7 runs, 1 loop each)\n",
            "\n",
            "Стартовые вершины: 3579\n",
            "MSBFS_Levels:\n",
            "192 ms ± 33.3 ms per loop (mean ± std. dev. of 7 runs, 10 loops each)\n",
            "MSBFS_Parents:\n",
            "624 ms ± 91 ms per loop (mean ± std. dev. of 7 runs, 1 loop each)\n",
            "\n",
            "Стартовые вершины: 4533\n",
            "MSBFS_Levels:\n",
            "213 ms ± 57.2 ms per loop (mean ± std. dev. of 7 runs, 1 loop each)\n",
            "MSBFS_Parents:\n",
            "497 ms ± 48.6 ms per loop (mean ± std. dev. of 7 runs, 1 loop each)\n",
            "\n",
            "----------------------------\n"
          ]
        }
      ]
    },
    {
      "cell_type": "markdown",
      "source": [
        "*Тестирование на случайных сгенерированных графах:*"
      ],
      "metadata": {
        "id": "x4fTNhU0yV2l"
      }
    },
    {
      "cell_type": "code",
      "source": [
        "def GetGraph(cnt_vertex, cnt_edge):\n",
        "    positions=[]\n",
        "    for ind in range(cnt_vertex**2):\n",
        "        if ind // cnt_vertex != ind % cnt_vertex:\n",
        "            positions.append(ind)\n",
        "    gen_ind = random.sample(positions, cnt_edge)\n",
        "\n",
        "    # Преобразование индексов в координаты (строка, столбец)\n",
        "    row_ind, col_ind = np.unravel_index(gen_ind, (cnt_vertex, cnt_vertex))\n",
        "\n",
        "    return gb.Matrix.from_coo(row_ind, col_ind, [1]*len(row_ind), nrows=cnt_vertex, ncols=cnt_vertex)"
      ],
      "metadata": {
        "id": "YxTfRDZ0zx22"
      },
      "execution_count": 100,
      "outputs": []
    },
    {
      "cell_type": "markdown",
      "source": [
        "Зафиксируем значения степени разреженности и числа стартовых вершин и исследуем зависимость от размера графа:"
      ],
      "metadata": {
        "id": "XgFVa1aDy32-"
      }
    },
    {
      "cell_type": "code",
      "source": [
        "for i in [50, 150, 300]:\n",
        "    fix_degreee, cnt_start = 0.5, 50\n",
        "    graph = GetGraph(i, int(fix_degreee * i * (i-1)))\n",
        "    cnt_vertex = graph.shape[0]\n",
        "    cnt_edge = len(graph.to_coo()[0])\n",
        "    degreee = cnt_edge / (cnt_vertex * (cnt_vertex - 1))\n",
        "    print(f'Вершины: {cnt_vertex}, стартовые вершины: {cnt_start}, степень разреженности: {degreee:.3f}')\n",
        "    GetTests(graph, gen_vertices(i, cnt_start))\n",
        "    print('----------------------------')"
      ],
      "metadata": {
        "colab": {
          "base_uri": "https://localhost:8080/"
        },
        "id": "vyhwEm8vydTr",
        "outputId": "957901f4-800e-465d-99ea-9fff9fe183ee"
      },
      "execution_count": 102,
      "outputs": [
        {
          "output_type": "stream",
          "name": "stdout",
          "text": [
            "Вершины: 50, стартовые вершины: 50, степень разреженности: 0.500\n",
            "MSBFS_Levels:\n",
            "200 ms ± 12.3 ms per loop (mean ± std. dev. of 7 runs, 1 loop each)\n",
            "MSBFS_Parents:\n",
            "113 ms ± 709 µs per loop (mean ± std. dev. of 7 runs, 10 loops each)\n",
            "\n",
            "----------------------------\n",
            "Вершины: 150, стартовые вершины: 50, степень разреженности: 0.500\n",
            "MSBFS_Levels:\n",
            "1.13 s ± 229 ms per loop (mean ± std. dev. of 7 runs, 1 loop each)\n",
            "MSBFS_Parents:\n",
            "1.17 s ± 229 ms per loop (mean ± std. dev. of 7 runs, 1 loop each)\n",
            "\n",
            "----------------------------\n",
            "Вершины: 300, стартовые вершины: 50, степень разреженности: 0.500\n",
            "MSBFS_Levels:\n",
            "5.44 s ± 2.17 s per loop (mean ± std. dev. of 7 runs, 1 loop each)\n",
            "MSBFS_Parents:\n",
            "4.53 s ± 533 ms per loop (mean ± std. dev. of 7 runs, 1 loop each)\n",
            "\n",
            "----------------------------\n"
          ]
        }
      ]
    },
    {
      "cell_type": "markdown",
      "source": [
        "При увеличении количества вершин время работы алгоритмов MSBFS-Levels и MSBFS-Parents тоже увеличивается, так как происходит увеличение количества столбцов в матрицах, что оказывает влияние на время выполнения операции матричного умножения."
      ],
      "metadata": {
        "id": "tf07NbY7DIAp"
      }
    },
    {
      "cell_type": "markdown",
      "source": [
        "Зафиксируем размер графа и количество стартовых вершин и исследуем зависимость от степени разряженности:"
      ],
      "metadata": {
        "id": "6jDm_iCa1YxB"
      }
    },
    {
      "cell_type": "code",
      "source": [
        "for i in [0.2, 0.4, 0.6]:\n",
        "    fix_cnt_vertex, cnt_start = 200, 20\n",
        "    graph = GetGraph(fix_cnt_vertex, int(i * fix_cnt_vertex * (fix_cnt_vertex-1)))\n",
        "    cnt_vertex = graph.shape[0]\n",
        "    cnt_edge = len(graph.to_coo()[0])\n",
        "    degreee = cnt_edge / (cnt_vertex * (cnt_vertex - 1))\n",
        "    print(f'Количество вершин: {cnt_vertex}, степень разреженности: {degreee:.2f}, доля стартовых вершин: {cnt_start}%')\n",
        "    GetTests(graph, gen_vertices(fix_cnt_vertex, cnt_start))\n",
        "    print('----------------------------')"
      ],
      "metadata": {
        "colab": {
          "base_uri": "https://localhost:8080/"
        },
        "id": "QWf68VVd2sUY",
        "outputId": "c5783e05-2ed7-4bc8-d49c-62fa3392fda5"
      },
      "execution_count": 103,
      "outputs": [
        {
          "output_type": "stream",
          "name": "stdout",
          "text": [
            "Количество вершин: 200, степень разреженности: 0.20, доля стартовых вершин: 20%\n",
            "MSBFS_Levels:\n",
            "709 ms ± 9.1 ms per loop (mean ± std. dev. of 7 runs, 1 loop each)\n",
            "MSBFS_Parents:\n",
            "852 ms ± 200 ms per loop (mean ± std. dev. of 7 runs, 1 loop each)\n",
            "\n",
            "----------------------------\n",
            "Количество вершин: 200, степень разреженности: 0.40, доля стартовых вершин: 20%\n",
            "MSBFS_Levels:\n",
            "698 ms ± 12.4 ms per loop (mean ± std. dev. of 7 runs, 1 loop each)\n",
            "MSBFS_Parents:\n",
            "808 ms ± 163 ms per loop (mean ± std. dev. of 7 runs, 1 loop each)\n",
            "\n",
            "----------------------------\n",
            "Количество вершин: 200, степень разреженности: 0.60, доля стартовых вершин: 20%\n",
            "MSBFS_Levels:\n",
            "702 ms ± 13.3 ms per loop (mean ± std. dev. of 7 runs, 1 loop each)\n",
            "MSBFS_Parents:\n",
            "783 ms ± 149 ms per loop (mean ± std. dev. of 7 runs, 1 loop each)\n",
            "\n",
            "----------------------------\n"
          ]
        }
      ]
    },
    {
      "cell_type": "markdown",
      "source": [
        "При увеличении степени разреженности резкого увеличения времени выполнения алгоритма нет. Также можно отметить, что при степени разреженности 0.4 MSBFS-Levels показал себя лучше всего, когда MSBFS-Parents при 0.6."
      ],
      "metadata": {
        "id": "RredlBDbD0w0"
      }
    },
    {
      "cell_type": "markdown",
      "source": [
        "Зафиксируем размер графа и степень разряженности и исследуем зависимость от количества стартовых вершин:"
      ],
      "metadata": {
        "id": "04dB_gxr57Ry"
      }
    },
    {
      "cell_type": "code",
      "source": [
        "for i in [20, 40, 60]:\n",
        "    cnt_vertex, fix_raref_deg = 20, 0.5\n",
        "    graph = GetGraph(cnt_vertex, int(fix_raref_deg * cnt_vertex * (cnt_vertex-1)))\n",
        "    cnt_vertexx = graph.shape[0]\n",
        "    cnt_edge = len(graph.to_coo()[0])\n",
        "    degreee = cnt_edge / (cnt_vertexx * (cnt_vertexx - 1))\n",
        "    print(f'Количество вершин: {cnt_vertex}, степень разреженности: {degreee:.2f}, доля стартовых вершин: {i}%')\n",
        "    GetTests(graph, gen_vertices(cnt_vertex, i))\n",
        "    print('----------------------------')"
      ],
      "metadata": {
        "colab": {
          "base_uri": "https://localhost:8080/"
        },
        "id": "_Dq-ORnW6JZS",
        "outputId": "a2b3fbbf-cf1a-42b1-f84f-3755cf640d89"
      },
      "execution_count": 104,
      "outputs": [
        {
          "output_type": "stream",
          "name": "stdout",
          "text": [
            "Количество вершин: 20, степень разреженности: 0.50, доля стартовых вершин: 20%\n",
            "MSBFS_Levels:\n",
            "9.42 ms ± 85.1 µs per loop (mean ± std. dev. of 7 runs, 100 loops each)\n",
            "MSBFS_Parents:\n",
            "10.9 ms ± 2.11 ms per loop (mean ± std. dev. of 7 runs, 100 loops each)\n",
            "\n",
            "----------------------------\n",
            "Количество вершин: 20, степень разреженности: 0.50, доля стартовых вершин: 40%\n",
            "MSBFS_Levels:\n",
            "19.5 ms ± 3.31 ms per loop (mean ± std. dev. of 7 runs, 100 loops each)\n",
            "MSBFS_Parents:\n",
            "18.2 ms ± 3.74 ms per loop (mean ± std. dev. of 7 runs, 100 loops each)\n",
            "\n",
            "----------------------------\n",
            "Количество вершин: 20, степень разреженности: 0.50, доля стартовых вершин: 60%\n",
            "MSBFS_Levels:\n",
            "28.3 ms ± 767 µs per loop (mean ± std. dev. of 7 runs, 10 loops each)\n",
            "MSBFS_Parents:\n",
            "31.4 ms ± 7.22 ms per loop (mean ± std. dev. of 7 runs, 10 loops each)\n",
            "\n",
            "----------------------------\n"
          ]
        }
      ]
    },
    {
      "cell_type": "markdown",
      "source": [
        "С ростом стартовых вершинпроисходит увеличение времени работы обоих алгоритмов."
      ],
      "metadata": {
        "id": "CEUZBFj0_fbT"
      }
    },
    {
      "cell_type": "markdown",
      "source": [
        "(+3 балла) Добавить реализации описанных алгоритмов с использованием других полуколец (any.pair для levels и any.first для parents). Добавить тесты для проверки корректности. Провести экспериментальное исследование со сравнением этих реализаций с первоначальными на различных графах."
      ],
      "metadata": {
        "id": "fQ-AwU5L_x_-"
      }
    },
    {
      "cell_type": "code",
      "source": [
        "def MSBFS_Parents_any_first(A, s):\n",
        "\n",
        "     # Проверка графа на ориентированность:\n",
        "    if A.isequal(A.T) and A.nvals > 0:\n",
        "        raise Exception ('Граф неориентированный, функция работает только с ориентированными графами')\n",
        "    # Задаем начальные значения:\n",
        "    N = A.nrows # Количнство вершин\n",
        "    M = s.size # Количество стартовых вершин\n",
        "    # Матрица для значений вершин:\n",
        "    index_ramp = Matrix(dtypes.UINT64, M, N)\n",
        "    for j in range(N):\n",
        "        index_ramp[:,j] << j\n",
        "\n",
        "    parents = Matrix(dtypes.UINT64, M, N)\n",
        "    wavefront = Matrix(dtypes.UINT64, M, N)\n",
        "\n",
        "    # Вставим изначальные (стартовые) значения в матрицы parents, wavefront:\n",
        "    for i in range(M):\n",
        "        parents[i, s[i]] << s[i]\n",
        "        wavefront[i, s[i]] << 1\n",
        "\n",
        "    # Обход графа:\n",
        "    while wavefront.nvals > 0:\n",
        "        # Преобразуем сохраненные значения в wavefront в их индекс:\n",
        "        wavefront << index_ramp.ewise_mult(wavefront, binary.first)\n",
        "        # Маска списка parents:\n",
        "        wavefront(~parents.S, replace=True) << wavefront.mxm(A, semiring.any_first)\n",
        "        # Объединение : parents += wavefront\n",
        "        parents(binary.plus) << wavefront\n",
        "\n",
        "    # Результат (нет родителя: -2; родитель - стартовая вершина: -1)\n",
        "    res = {\n",
        "        s[i]: np.array([\n",
        "            -2 if parents[i, j].value is None else (-1 if j == s[i] else parents[i, j].value)\n",
        "            for j in range(N)\n",
        "        ])\n",
        "        for i in range(M)\n",
        "    }\n",
        "    return res"
      ],
      "metadata": {
        "id": "jWC95xY8Ah0S"
      },
      "execution_count": 105,
      "outputs": []
    },
    {
      "cell_type": "code",
      "source": [
        "def MSBFS_Levels_any_pair(A, s):\n",
        "\n",
        "    # Проверка графа на ориентированность:\n",
        "    if A.isequal(A.T) and A.nvals > 0:\n",
        "        raise Exception ('Граф неориентированный, функция работает только с ориентированными графами')\n",
        "\n",
        "    # Задаем начальные значения:\n",
        "    n = A.nrows # Количнство вершин\n",
        "    m = s.size # Количество стартовых вершин\n",
        "    result = Matrix(dtypes.INT32, m, n) # Размер возвращаемой матрицы\n",
        "    f = Matrix(bool, m, n) # Фронт\n",
        "    succ = Vector(bool, m)\n",
        "    for i in range(m):\n",
        "        f[i,s[i]] << True\n",
        "\n",
        "    # Обход графа в ширину:\n",
        "    level = 0 # level in BFS traversal\n",
        "    while True:\n",
        "      # Заполняем уровни:\n",
        "      result(mask=f.V) << level\n",
        "      # Рассчет next frontier:\n",
        "      f(~result.S, replace=True) << f.mxm(A, semiring.any_pair)\n",
        "\n",
        "      for i in range(m):\n",
        "          # Заполняем вектор наличия свободных вершин:\n",
        "          succ[i] << f[i,:].reduce(monoid.lor, allow_empty=False)\n",
        "\n",
        "      truee = True\n",
        "      # Пора останавливать цикл?\n",
        "      for i in range(m):\n",
        "          if succ[i]:\n",
        "          # Проверка до первого true\n",
        "              truee = False\n",
        "              break\n",
        "      if truee:\n",
        "          break\n",
        "      level += 1 # Счетчик уровней\n",
        "\n",
        "    # Вывод результата:\n",
        "    return {s[i]: np.array([-1 if result[i, j].value is None else result[i, j].value for j in range(n)]) for i in range(m)}"
      ],
      "metadata": {
        "id": "1XGFrHAjFCqN"
      },
      "execution_count": 106,
      "outputs": []
    },
    {
      "cell_type": "code",
      "source": [
        "def GetTests_dop(A, s):\n",
        "    print('MSBFS_Parents_any_first:')\n",
        "    %timeit MSBFS_Parents_any_first(A, s)\n",
        "    print('MSBFS_Levels_any_pair:')\n",
        "    %timeit MSBFS_Levels_any_pair(A, s)\n",
        "    print()"
      ],
      "metadata": {
        "id": "Dm6wRtDMFihF"
      },
      "execution_count": 107,
      "outputs": []
    },
    {
      "cell_type": "markdown",
      "source": [
        "Зафиксируем значения степени разреженности и числа стартовых вершин и исследуем зависимость от размера графа:"
      ],
      "metadata": {
        "id": "7v3ySRZaF-i8"
      }
    },
    {
      "cell_type": "code",
      "source": [
        "for i in [50, 150, 300]:\n",
        "    fix_degreee, cnt_start = 0.5, 50\n",
        "    graph = GetGraph(i, int(fix_degreee * i * (i-1)))\n",
        "    cnt_vertex = graph.shape[0]\n",
        "    cnt_edge = len(graph.to_coo()[0])\n",
        "    degreee = cnt_edge / (cnt_vertex * (cnt_vertex - 1))\n",
        "    print(f'Вершины: {cnt_vertex}, стартовые вершины: {cnt_start}, степень разреженности: {degreee:.3f}')\n",
        "    GetTests_dop(graph, gen_vertices(i, cnt_start))\n",
        "    print('----------------------------')"
      ],
      "metadata": {
        "colab": {
          "base_uri": "https://localhost:8080/"
        },
        "outputId": "08ff5c24-793b-412f-c6de-9e8124e7dd8e",
        "id": "vytzXcHgGCuj"
      },
      "execution_count": 108,
      "outputs": [
        {
          "output_type": "stream",
          "name": "stdout",
          "text": [
            "Вершины: 50, стартовые вершины: 50, степень разреженности: 0.500\n",
            "MSBFS_Parents_any_first:\n",
            "133 ms ± 25.9 ms per loop (mean ± std. dev. of 7 runs, 10 loops each)\n",
            "MSBFS_Levels_any_pair:\n",
            "136 ms ± 26.3 ms per loop (mean ± std. dev. of 7 runs, 10 loops each)\n",
            "\n",
            "----------------------------\n",
            "Вершины: 150, стартовые вершины: 50, степень разреженности: 0.500\n",
            "MSBFS_Parents_any_first:\n",
            "1.59 s ± 833 ms per loop (mean ± std. dev. of 7 runs, 1 loop each)\n",
            "MSBFS_Levels_any_pair:\n",
            "1.21 s ± 339 ms per loop (mean ± std. dev. of 7 runs, 1 loop each)\n",
            "\n",
            "----------------------------\n",
            "Вершины: 300, стартовые вершины: 50, степень разреженности: 0.500\n",
            "MSBFS_Parents_any_first:\n",
            "5.94 s ± 1.12 s per loop (mean ± std. dev. of 7 runs, 1 loop each)\n",
            "MSBFS_Levels_any_pair:\n",
            "4.27 s ± 556 ms per loop (mean ± std. dev. of 7 runs, 1 loop each)\n",
            "\n",
            "----------------------------\n"
          ]
        }
      ]
    },
    {
      "cell_type": "markdown",
      "source": [
        "Зафиксируем размер графа и количество стартовых вершин и исследуем зависимость от степени разряженности:"
      ],
      "metadata": {
        "id": "rObaiTT0GMKG"
      }
    },
    {
      "cell_type": "code",
      "source": [
        "for i in [0.2, 0.4, 0.6]:\n",
        "    fix_cnt_vertex, cnt_start = 200, 20\n",
        "    graph = GetGraph(fix_cnt_vertex, int(i * fix_cnt_vertex * (fix_cnt_vertex-1)))\n",
        "    cnt_vertex = graph.shape[0]\n",
        "    cnt_edge = len(graph.to_coo()[0])\n",
        "    degreee = cnt_edge / (cnt_vertex * (cnt_vertex - 1))\n",
        "    print(f'Количество вершин: {cnt_vertex}, степень разреженности: {degreee:.2f}, доля стартовых вершин: {cnt_start}%')\n",
        "    GetTests_dop(graph, gen_vertices(fix_cnt_vertex, cnt_start))\n",
        "    print('----------------------------')"
      ],
      "metadata": {
        "colab": {
          "base_uri": "https://localhost:8080/"
        },
        "outputId": "5e3ca6d2-8f4f-497e-f368-9af75d1de0b3",
        "id": "8PO9xM93GP3c"
      },
      "execution_count": 109,
      "outputs": [
        {
          "output_type": "stream",
          "name": "stdout",
          "text": [
            "Количество вершин: 200, степень разреженности: 0.20, доля стартовых вершин: 20%\n",
            "MSBFS_Parents_any_first:\n",
            "793 ms ± 143 ms per loop (mean ± std. dev. of 7 runs, 1 loop each)\n",
            "MSBFS_Levels_any_pair:\n",
            "721 ms ± 57.8 ms per loop (mean ± std. dev. of 7 runs, 1 loop each)\n",
            "\n",
            "----------------------------\n",
            "Количество вершин: 200, степень разреженности: 0.40, доля стартовых вершин: 20%\n",
            "MSBFS_Parents_any_first:\n",
            "745 ms ± 90.9 ms per loop (mean ± std. dev. of 7 runs, 1 loop each)\n",
            "MSBFS_Levels_any_pair:\n",
            "777 ms ± 181 ms per loop (mean ± std. dev. of 7 runs, 1 loop each)\n",
            "\n",
            "----------------------------\n",
            "Количество вершин: 200, степень разреженности: 0.60, доля стартовых вершин: 20%\n",
            "MSBFS_Parents_any_first:\n",
            "710 ms ± 7.97 ms per loop (mean ± std. dev. of 7 runs, 1 loop each)\n",
            "MSBFS_Levels_any_pair:\n",
            "813 ms ± 189 ms per loop (mean ± std. dev. of 7 runs, 1 loop each)\n",
            "\n",
            "----------------------------\n"
          ]
        }
      ]
    },
    {
      "cell_type": "markdown",
      "source": [
        "Зафиксируем размер графа и степень разряженности и исследуем зависимость от количества стартовых вершин:"
      ],
      "metadata": {
        "id": "wcz2G56LGXAj"
      }
    },
    {
      "cell_type": "code",
      "source": [
        "for i in [20, 40, 60]:\n",
        "    cnt_vertex, fix_raref_deg = 20, 0.5\n",
        "    graph = GetGraph(cnt_vertex, int(fix_raref_deg * cnt_vertex * (cnt_vertex-1)))\n",
        "    cnt_vertexx = graph.shape[0]\n",
        "    cnt_edge = len(graph.to_coo()[0])\n",
        "    degreee = cnt_edge / (cnt_vertexx * (cnt_vertexx - 1))\n",
        "    print(f'Количество вершин: {cnt_vertex}, степень разреженности: {degreee:.2f}, доля стартовых вершин: {i}%')\n",
        "    GetTests_dop(graph, gen_vertices(cnt_vertex, i))\n",
        "    print('----------------------------')"
      ],
      "metadata": {
        "colab": {
          "base_uri": "https://localhost:8080/"
        },
        "outputId": "48b0dcca-68ff-4899-9d0e-cd1e25ec24f0",
        "id": "t7HQ0d2xGcDP"
      },
      "execution_count": 110,
      "outputs": [
        {
          "output_type": "stream",
          "name": "stdout",
          "text": [
            "Количество вершин: 20, степень разреженности: 0.50, доля стартовых вершин: 20%\n",
            "MSBFS_Parents_any_first:\n",
            "10.5 ms ± 1.98 ms per loop (mean ± std. dev. of 7 runs, 100 loops each)\n",
            "MSBFS_Levels_any_pair:\n",
            "9.86 ms ± 1.17 ms per loop (mean ± std. dev. of 7 runs, 100 loops each)\n",
            "\n",
            "----------------------------\n",
            "Количество вершин: 20, степень разреженности: 0.50, доля стартовых вершин: 40%\n",
            "MSBFS_Parents_any_first:\n",
            "18.6 ms ± 2.7 ms per loop (mean ± std. dev. of 7 runs, 100 loops each)\n",
            "MSBFS_Levels_any_pair:\n",
            "20.3 ms ± 3.61 ms per loop (mean ± std. dev. of 7 runs, 100 loops each)\n",
            "\n",
            "----------------------------\n",
            "Количество вершин: 20, степень разреженности: 0.50, доля стартовых вершин: 60%\n",
            "MSBFS_Parents_any_first:\n",
            "23.5 ms ± 554 µs per loop (mean ± std. dev. of 7 runs, 10 loops each)\n",
            "MSBFS_Levels_any_pair:\n",
            "28.2 ms ± 904 µs per loop (mean ± std. dev. of 7 runs, 10 loops each)\n",
            "\n",
            "----------------------------\n"
          ]
        }
      ]
    },
    {
      "cell_type": "markdown",
      "source": [
        "После сравнения алгоритмов с различными вариациями полуколец можно сделать вывод о том, что время отработки алгоритмов практически не изменилось. </br>\n",
        "В случае проведения эксперментов с использованием крайних значений рассматриваемых параметров алгоритм MSBFS- Levels в начальном полукольце показал лучшее время."
      ],
      "metadata": {
        "id": "bRt2IawvI-1_"
      }
    }
  ]
}