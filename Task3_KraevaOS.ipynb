{
  "nbformat": 4,
  "nbformat_minor": 0,
  "metadata": {
    "colab": {
      "provenance": []
    },
    "kernelspec": {
      "name": "python3",
      "display_name": "Python 3"
    },
    "language_info": {
      "name": "python"
    }
  },
  "cells": [
    {
      "cell_type": "markdown",
      "source": [
        "#Задача 3. Реализация поиска кратчайших путей"
      ],
      "metadata": {
        "id": "wZLkLT7dKbwJ"
      }
    },
    {
      "cell_type": "code",
      "source": [
        "# pip install python-graphblas[default]"
      ],
      "metadata": {
        "id": "rKCfbxDyLct5"
      },
      "execution_count": 83,
      "outputs": []
    },
    {
      "cell_type": "code",
      "source": [
        "from graphblas import Matrix\n",
        "from graphblas import Vector\n",
        "from graphblas import dtypes\n",
        "from graphblas import binary, semiring, op\n",
        "import numpy as np\n",
        "import graphblas as gb"
      ],
      "metadata": {
        "id": "4xn1STxdLXIk"
      },
      "execution_count": 82,
      "outputs": []
    },
    {
      "cell_type": "markdown",
      "source": [
        "Используя python-graphblas реализовать функцию **поиска кратчайших путей в ориентированном графе из заданной вершины (Bellman–Ford)**.\n",
        "+ Функция принимает представление графа, удобное для неё (загрузка, конвертация реализованы отдельно) и номер стартовой вершины.\n",
        "+ Функция возвращает массив, где для каждой вершины указано расстояние до неё от указанной стартовой вершины. Если вершина не достижима или кратчайшего пути для неё не существует, то значение соответствующей ячейки равно float('inf')."
      ],
      "metadata": {
        "id": "IQ9uEkgoKo5l"
      }
    },
    {
      "cell_type": "code",
      "source": [
        "def Bellman_Ford_single(m, s):\n",
        "\n",
        "    for i in range(m.nrows):\n",
        "        m[i, i] << 0\n",
        "    # создаем вектор и инициализируем начальную вершину s с нулевым расстоянием.\n",
        "    v = Vector(m.dtype, m.nrows)\n",
        "    v[s] << 0\n",
        "    while True:\n",
        "        w = v.dup()\n",
        "        v << v.vxm(m, semiring.min_plus) # используем полукольцо min-plus\n",
        "        # если граф не проходит проверку на ориентированность:\n",
        "        if v.isequal(w):\n",
        "            break\n",
        "    return [v[i].value if v[i].value is not None else float('inf') for i in range(v.size)]"
      ],
      "metadata": {
        "id": "8vh7OU60Kw1u"
      },
      "execution_count": 84,
      "outputs": []
    },
    {
      "cell_type": "code",
      "source": [
        "data = [\n",
        "    [3, 0, 3, 5, 6, 0, 6, 1, 6, 2, 4, 1],\n",
        "    [0, 1, 2, 2, 2, 3, 3, 4, 4, 5, 5, 6],\n",
        "    [3, 2, 3, 1, 5, 3, 7, 8, 3, 1, 7, 4],\n",
        "]"
      ],
      "metadata": {
        "id": "bK-TJWXxR1i7"
      },
      "execution_count": 85,
      "outputs": []
    },
    {
      "cell_type": "code",
      "source": [
        "rows, cols, weights = data\n",
        "m = Matrix.from_coo(rows, cols, weights)\n",
        "m"
      ],
      "metadata": {
        "colab": {
          "base_uri": "https://localhost:8080/",
          "height": 338
        },
        "id": "kE8YZ8g2R3x6",
        "outputId": "32831414-9a95-46b7-dedd-f3d02a4cf646"
      },
      "execution_count": 86,
      "outputs": [
        {
          "output_type": "execute_result",
          "data": {
            "text/plain": [
              "\"M_1651717\"  nvals  nrows  ncols  dtype   format\n",
              "gb.Matrix       12      7      7  INT64  bitmapr\n",
              "------------------------------------------------\n",
              "   0  1  2  3  4  5  6\n",
              "0     2     3         \n",
              "1              8     4\n",
              "2                 1   \n",
              "3  3     3            \n",
              "4                 7   \n",
              "5        1            \n",
              "6        5  7  3      "
            ],
            "text/html": [
              "<div>\n",
              "<style>\n",
              "table.gb-info-table {\n",
              "    border: 1px solid black;\n",
              "    max-width: 100%;\n",
              "    margin-top: 0px;\n",
              "    margin-bottom: 0px;\n",
              "    padding-top: 0px;\n",
              "    padding-bottom: 0px;\n",
              "}\n",
              "\n",
              "td.gb-info-name-cell {\n",
              "    white-space: nowrap;\n",
              "}\n",
              "\n",
              "details.gb-arg-details {\n",
              "    margin-top: 0px;\n",
              "    margin-bottom: 0px;\n",
              "    padding-top: 0px;\n",
              "    padding-bottom: 5px;\n",
              "    margin-left: 10px;\n",
              "}\n",
              "\n",
              "summary.gb-arg-summary {\n",
              "    display: list-item;\n",
              "    outline: none;\n",
              "    margin-top: 0px;\n",
              "    margin-bottom: 0px;\n",
              "    padding-top: 0px;\n",
              "    padding-bottom: 0px;\n",
              "    margin-left: -10px;\n",
              "}\n",
              "\n",
              "details.gb-expr-details {\n",
              "    margin-top: 0px;\n",
              "    margin-bottom: 0px;\n",
              "    padding-top: 0px;\n",
              "    padding-bottom: 5px;\n",
              "}\n",
              "\n",
              "summary.gb-expr-summary {\n",
              "    display: list-item;\n",
              "    outline: none;\n",
              "    margin-top: 0px;\n",
              "    margin-bottom: 0px;\n",
              "    padding-top: 0px;\n",
              "    padding-bottom: 0px;\n",
              "}\n",
              "\n",
              "blockquote.gb-expr-blockquote {\n",
              "    margin-top: 5px;\n",
              "    margin-bottom: 0px;\n",
              "    padding-top: 0px;\n",
              "    padding-bottom: 0px;\n",
              "    margin-left: 15px;\n",
              "}\n",
              "\n",
              ".gb-scalar {\n",
              "    margin-top: 0px;\n",
              "    margin-bottom: 0px;\n",
              "    padding-top: 0px;\n",
              "    padding-bottom: 5px;\n",
              "}\n",
              "\n",
              "/* modify pandas dataframe */\n",
              "table.dataframe {\n",
              "    margin-top: 0px;\n",
              "    margin-bottom: 0px;\n",
              "    padding-top: 0px;\n",
              "    padding-bottom: 0px;\n",
              "}\n",
              "\n",
              "/* expression tooltips */\n",
              ".expr-tooltip .tooltip-circle {\n",
              "    background: #9a9cc6;\n",
              "    color: #fff;\n",
              "    border-radius: 50%;\n",
              "    width: 40px;\n",
              "    height: 40px;\n",
              "    padding-left: 4px;\n",
              "    padding-right: 4px;\n",
              "}\n",
              ".expr-tooltip .tooltip-text {\n",
              "    visibility: hidden;\n",
              "    position: absolute;\n",
              "    width: 450px;\n",
              "    background: #eef;\n",
              "    border: 1px solid #99a;\n",
              "    text-align: left;\n",
              "    border-radius: 6px;\n",
              "    padding: 3px 3px 3px 8px;\n",
              "    margin-left: 6px;\n",
              "}\n",
              ".expr-tooltip:hover .tooltip-text {\n",
              "    visibility: visible;\n",
              "}\n",
              ".expr-tooltip code {\n",
              "    background-color: #f8ffed;\n",
              "}\n",
              "</style>\n",
              "<details open class=\"gb-arg-details\"><summary class=\"gb-arg-summary\"><tt>M<sub>1651717</sub></tt><div>\n",
              "<table class=\"gb-info-table\">\n",
              "  <tr>\n",
              "    <td rowspan=\"2\" class=\"gb-info-name-cell\"><pre>gb.Matrix</pre></td>\n",
              "    <td><pre>nvals</pre></td>\n",
              "    <td><pre>nrows</pre></td>\n",
              "    <td><pre>ncols</pre></td>\n",
              "    <td><pre>dtype</pre></td>\n",
              "    <td><pre>format</pre></td>\n",
              "  </tr>\n",
              "  <tr>\n",
              "    <td>12</td>\n",
              "    <td>7</td>\n",
              "    <td>7</td>\n",
              "    <td>INT64</td>\n",
              "    <td>bitmapr</td>\n",
              "  </tr>\n",
              "</table>\n",
              "</div>\n",
              "</summary><div>\n",
              "<style scoped>\n",
              "    .dataframe tbody tr th:only-of-type {\n",
              "        vertical-align: middle;\n",
              "    }\n",
              "\n",
              "    .dataframe tbody tr th {\n",
              "        vertical-align: top;\n",
              "    }\n",
              "\n",
              "    .dataframe thead th {\n",
              "        text-align: right;\n",
              "    }\n",
              "</style>\n",
              "<table border=\"1\" class=\"dataframe\">\n",
              "  <thead>\n",
              "    <tr style=\"text-align: right;\">\n",
              "      <th></th>\n",
              "      <th>0</th>\n",
              "      <th>1</th>\n",
              "      <th>2</th>\n",
              "      <th>3</th>\n",
              "      <th>4</th>\n",
              "      <th>5</th>\n",
              "      <th>6</th>\n",
              "    </tr>\n",
              "  </thead>\n",
              "  <tbody>\n",
              "    <tr>\n",
              "      <th>0</th>\n",
              "      <td></td>\n",
              "      <td>2</td>\n",
              "      <td></td>\n",
              "      <td>3</td>\n",
              "      <td></td>\n",
              "      <td></td>\n",
              "      <td></td>\n",
              "    </tr>\n",
              "    <tr>\n",
              "      <th>1</th>\n",
              "      <td></td>\n",
              "      <td></td>\n",
              "      <td></td>\n",
              "      <td></td>\n",
              "      <td>8</td>\n",
              "      <td></td>\n",
              "      <td>4</td>\n",
              "    </tr>\n",
              "    <tr>\n",
              "      <th>2</th>\n",
              "      <td></td>\n",
              "      <td></td>\n",
              "      <td></td>\n",
              "      <td></td>\n",
              "      <td></td>\n",
              "      <td>1</td>\n",
              "      <td></td>\n",
              "    </tr>\n",
              "    <tr>\n",
              "      <th>3</th>\n",
              "      <td>3</td>\n",
              "      <td></td>\n",
              "      <td>3</td>\n",
              "      <td></td>\n",
              "      <td></td>\n",
              "      <td></td>\n",
              "      <td></td>\n",
              "    </tr>\n",
              "    <tr>\n",
              "      <th>4</th>\n",
              "      <td></td>\n",
              "      <td></td>\n",
              "      <td></td>\n",
              "      <td></td>\n",
              "      <td></td>\n",
              "      <td>7</td>\n",
              "      <td></td>\n",
              "    </tr>\n",
              "    <tr>\n",
              "      <th>5</th>\n",
              "      <td></td>\n",
              "      <td></td>\n",
              "      <td>1</td>\n",
              "      <td></td>\n",
              "      <td></td>\n",
              "      <td></td>\n",
              "      <td></td>\n",
              "    </tr>\n",
              "    <tr>\n",
              "      <th>6</th>\n",
              "      <td></td>\n",
              "      <td></td>\n",
              "      <td>5</td>\n",
              "      <td>7</td>\n",
              "      <td>3</td>\n",
              "      <td></td>\n",
              "      <td></td>\n",
              "    </tr>\n",
              "  </tbody>\n",
              "</table>\n",
              "</div></details></div>"
            ]
          },
          "metadata": {},
          "execution_count": 86
        }
      ]
    },
    {
      "cell_type": "code",
      "source": [
        "gb.viz.draw(m)"
      ],
      "metadata": {
        "colab": {
          "base_uri": "https://localhost:8080/",
          "height": 406
        },
        "id": "5-vmuC0DSjyc",
        "outputId": "5966a12c-28ed-469c-f2c3-bde0db32b374"
      },
      "execution_count": 87,
      "outputs": [
        {
          "output_type": "display_data",
          "data": {
            "text/plain": [
              "<Figure size 640x480 with 1 Axes>"
            ],
            "image/png": "[encoded data removed]"
          },
          "metadata": {}
        }
      ]
    },
    {
      "cell_type": "code",
      "source": [
        "Bellman_Ford_single(m, 0)"
      ],
      "metadata": {
        "colab": {
          "base_uri": "https://localhost:8080/"
        },
        "id": "-byU0XIYR_VG",
        "outputId": "31ff2ad9-1ae4-4520-c645-12bc782b14a8"
      },
      "execution_count": 88,
      "outputs": [
        {
          "output_type": "execute_result",
          "data": {
            "text/plain": [
              "[0, 2, 6, 3, 9, 7, 6]"
            ]
          },
          "metadata": {},
          "execution_count": 88
        }
      ]
    },
    {
      "cell_type": "markdown",
      "source": [
        "Добавить необходимые тесты."
      ],
      "metadata": {
        "id": "Lj5BlTiBLFFw"
      }
    },
    {
      "cell_type": "code",
      "source": [
        "def test_bellman_ford_single():\n",
        "    # Простой граф (правильный сценарий, для сравнения):\n",
        "    m1 = Matrix(float, 3, 3)\n",
        "    m1[0, 1] = 1\n",
        "    m1[1, 2] = 2\n",
        "    m1[2, 0] = 3\n",
        "    assert Bellman_Ford_single(m1, 0) == [0, 1, 3]\n",
        "\n",
        "\n",
        "    # Пустая матрица (ожидаем ошибку):\n",
        "    m2 = Matrix(float, 0, 0)\n",
        "    try:\n",
        "        Bellman_Ford_single(m2, 0)\n",
        "        print(\"Обработан неверно!!!\")\n",
        "    except IndexError:\n",
        "        print(\"Обнаружен пустой граф\")\n",
        "\n",
        "    # Неверный начальный узел (индекс за пределами диапазона):\n",
        "    m3 = Matrix(float, 3, 3)\n",
        "    m3[0, 1] = 1\n",
        "    m3[1, 2] = 2\n",
        "    m3[2, 0] = 3\n",
        "    try:\n",
        "        Bellman_Ford_single(m3, 3)\n",
        "        print(\"Обработан неверно!!!\")\n",
        "    except IndexError:\n",
        "        print(\"Обнаружен недопустимый начальный узел\")"
      ],
      "metadata": {
        "id": "QoY8nR5Gj5lY"
      },
      "execution_count": 89,
      "outputs": []
    },
    {
      "cell_type": "code",
      "source": [
        "test_bellman_ford_single()"
      ],
      "metadata": {
        "colab": {
          "base_uri": "https://localhost:8080/"
        },
        "id": "FLy4W0ZBkSTG",
        "outputId": "c05b950d-1c33-4662-8d5d-98d2561b3fd7"
      },
      "execution_count": 90,
      "outputs": [
        {
          "output_type": "stream",
          "name": "stdout",
          "text": [
            "Обнаружен пустой граф\n",
            "Обнаружен недопустимый начальный узел\n"
          ]
        }
      ]
    },
    {
      "cell_type": "markdown",
      "source": [
        "Используя python-graphblas реализовать функцию **поиска кратчайших путей в ориентированном графе из нескольких заданных вершин, модифицировав предыдущий алгоритм.**\n",
        "+ Функция принимает представление графа, удобное для неё (загрузка, конвертация реализованы отдельно) и массив номеров стартовых вершин.\n",
        "+ Функция возвращает массив пар: вершина, и массив, где для каждой вершины указано расстояние до неё из указанной. Если вершина не достижима или кратчайшего пути для неё не существует, то значение соответствующей ячейки равно float('inf')."
      ],
      "metadata": {
        "id": "Hh0qZExiKxDR"
      }
    },
    {
      "cell_type": "code",
      "source": [
        "def get_results(v, ss):\n",
        "    res = []\n",
        "    for i in range(v.nrows):\n",
        "        row = []\n",
        "        for j in range(v.ncols):\n",
        "            if v[i, j].value is None:\n",
        "                row.append(float('inf'))  # добавляем бесконечность, если значение None\n",
        "            else:\n",
        "                row.append(v[i, j].value)  # добавляем значение, если оно не None\n",
        "        res.append((ss[i], row))\n",
        "    return res"
      ],
      "metadata": {
        "id": "WJSKlnUQK4gD"
      },
      "execution_count": 91,
      "outputs": []
    },
    {
      "cell_type": "code",
      "source": [
        "def Bellman_Ford_multi(m, ss):\n",
        "\n",
        "    for i in range(m.nrows):\n",
        "        m[i, i] << 0\n",
        "    v = Matrix(m.dtype, len(ss), m.nrows)\n",
        "    # начальные расстояния от начальных вершин до самих себя = нулю:\n",
        "    for (i, s) in enumerate(ss):\n",
        "        v[i, s] << 0\n",
        "    while True:\n",
        "        w = v.dup()\n",
        "        v << v.mxm(m, semiring.min_plus) # используем полукольцо min-plus\n",
        "        # если граф не проходит проверку на ориентированность:\n",
        "        if v.isequal(w):\n",
        "            break\n",
        "\n",
        "    return get_results(v, ss)"
      ],
      "metadata": {
        "id": "DOoEPqEhLE4R"
      },
      "execution_count": 92,
      "outputs": []
    },
    {
      "cell_type": "markdown",
      "source": [
        "Добавить необходимые тесты."
      ],
      "metadata": {
        "id": "9FtAd2UQnIb4"
      }
    },
    {
      "cell_type": "code",
      "source": [
        "def test_bellman_ford_multi():\n",
        "\n",
        "    # Пустая матрица (ожидаем ошибку):\n",
        "    m1 = Matrix(float, 0, 0)\n",
        "    try:\n",
        "        Bellman_Ford_single(m1, 0)\n",
        "        print(\"Обработан неверно!!!\")\n",
        "    except IndexError:\n",
        "        print(\"Обнаружен пустой граф\")\n",
        "\n",
        "    # Некорректная структура данных в списке начальных вершин:\n",
        "    m2 = Matrix(float, 3, 3)\n",
        "    try:\n",
        "        Bellman_Ford_multi(m2, [0, 1, 2, 3])\n",
        "        print(\" Неправильные начальные вершины не обнаружены\")\n",
        "    except IndexError:\n",
        "        print(\"Обнаружены неправильные начальные вершины\")\n",
        "\n",
        "test_bellman_ford_multi()"
      ],
      "metadata": {
        "colab": {
          "base_uri": "https://localhost:8080/"
        },
        "id": "Mck1iRJDm3eM",
        "outputId": "d4477d45-ef5d-492a-ed66-c1e7c9435224"
      },
      "execution_count": 93,
      "outputs": [
        {
          "output_type": "stream",
          "name": "stdout",
          "text": [
            "Обнаружен пустой граф\n",
            "Обнаружены неправильные начальные вершины\n"
          ]
        }
      ]
    },
    {
      "cell_type": "markdown",
      "source": [
        "Используя python-graphblas реализовать **две функции поиска кратчайших путей в ориентированном графе для всех пар вершин (Floyd–Warshall и вычисление транзитивного замыкания)**.\n",
        "+ Функции принимают представление графа, удобное для неё (загрузка, конвертация реализованы отдельно).\n",
        "+ Функции возвращают массив пар: вершина, и массив, где для каждой вершины указано расстояние до неё из указанной. Если вершина не достижима или кратчайшего пути для неё не существует, то значение соответствующей ячейки равно float('inf')."
      ],
      "metadata": {
        "id": "IZYzcFucK4vr"
      }
    },
    {
      "cell_type": "code",
      "source": [
        "def Floyd_Warshall(m):\n",
        "\n",
        "    d = m.dup()\n",
        "    for i in range(d.nrows):\n",
        "        d[i, i] << 0\n",
        "    for j in range(m.ncols):\n",
        "    # обновляем матрицу, учитывая промежуточные вершины\n",
        "        d(accum=op.min) << d[:, [j]].mxm(d[[j], :], semiring.min_plus)\n",
        "\n",
        "    return get_results(d, list(range(m.ncols)))"
      ],
      "metadata": {
        "id": "gpSXttSvWe8C"
      },
      "execution_count": 94,
      "outputs": []
    },
    {
      "cell_type": "code",
      "source": [
        "def Transitive_Closure(m):\n",
        "\n",
        "    identity_matrix = Matrix(m.dtype, m.nrows, m.nrows)\n",
        "    for i in range(m.nrows):\n",
        "        m[i, i] << 0\n",
        "        identity_matrix[i, i] << 1\n",
        "\n",
        "    d = identity_matrix.dup()\n",
        "    v = identity_matrix.dup()\n",
        "\n",
        "    for k in range(m.ncols):\n",
        "        d << d.mxm(m, semiring.min_plus)\n",
        "        # обновляем матрицу v, накапливая минимальные значения:\n",
        "        v(accum=op.min) << d\n",
        "\n",
        "    for i in range(m.nrows):\n",
        "        for j in range(m.nrows):\n",
        "            if v[i, j].value is not None:\n",
        "                v[i, j] << v[i, j].value - 1\n",
        "\n",
        "    return get_results(v, list(range(m.ncols)))"
      ],
      "metadata": {
        "id": "rMD0m3dPLHco"
      },
      "execution_count": 95,
      "outputs": []
    },
    {
      "cell_type": "markdown",
      "source": [
        "Добавить необходимые тесты."
      ],
      "metadata": {
        "id": "TDihpTECsdfj"
      }
    },
    {
      "cell_type": "code",
      "source": [
        "def test_Floyd_Warshall():\n",
        "    # Создаем матрицу смежности для графа из 3 вершин\n",
        "    m = Matrix(float, 3, 3)\n",
        "    m[0, 1] = 2  # ребро (0, 1) с весом 2\n",
        "    m[1, 2] = 3  # ребро (1, 2) с весом 3\n",
        "    m[0, 2] = 4  # ребро (0, 2) с весом 4\n",
        "\n",
        "    # Вызываем функцию Floyd_Warshall\n",
        "    result = Floyd_Warshall(m)\n",
        "\n",
        "    # Преобразуем результат в матрицу\n",
        "    result_matrix = [[float('inf')] * 3 for _ in range(3)]\n",
        "    for vertex, distances in result:\n",
        "        for i, distance in enumerate(distances):\n",
        "            result_matrix[vertex][i] = distance\n",
        "\n",
        "    # Ожидаемый результат\n",
        "    expected_result = [\n",
        "        [0, 2, 4],\n",
        "        [float('inf'), 0, 3],\n",
        "        [float('inf'), float('inf'), 0]\n",
        "    ]\n",
        "\n",
        "    # Проверяем, что результат соответствует ожидаемому результату\n",
        "    assert result_matrix == expected_result\n",
        "    print(\"Функция Floyd_Warshall работает корректно\")\n",
        "\n",
        "test_Floyd_Warshall()"
      ],
      "metadata": {
        "colab": {
          "base_uri": "https://localhost:8080/"
        },
        "id": "O6uDB0LEtmDZ",
        "outputId": "e306fa02-7f13-447c-ccf6-1454282eeb12"
      },
      "execution_count": 96,
      "outputs": [
        {
          "output_type": "stream",
          "name": "stdout",
          "text": [
            "Функция Floyd_Warshall работает корректно\n"
          ]
        }
      ]
    },
    {
      "cell_type": "code",
      "source": [
        "def test_Transitive_Closure():\n",
        "    # Создаем матрицу смежности для графа из 3 вершин\n",
        "    m = Matrix(float, 3, 3)\n",
        "    m[0, 1] = 2  # ребро (0, 1) с весом 2\n",
        "    m[1, 2] = 3  # ребро (1, 2) с весом 3\n",
        "    m[0, 2] = 4  # ребро (0, 2) с весом 4\n",
        "\n",
        "    # Вызываем функцию Floyd_Warshall\n",
        "    result = Transitive_Closure(m)\n",
        "\n",
        "    # Преобразуем результат в матрицу\n",
        "    result_matrix = [[float('inf')] * 3 for _ in range(3)]\n",
        "    for vertex, distances in result:\n",
        "        for i, distance in enumerate(distances):\n",
        "            result_matrix[vertex][i] = distance\n",
        "\n",
        "    # Ожидаемый результат\n",
        "    expected_result = [\n",
        "        [0, 2, 4],\n",
        "        [float('inf'), 0, 3],\n",
        "        [float('inf'), float('inf'), 0]\n",
        "    ]\n",
        "\n",
        "    # Проверяем, что результат соответствует ожидаемому результату\n",
        "    assert result_matrix == expected_result\n",
        "    print(\"Функция Floyd_Warshall работает корректно\")\n",
        "\n",
        "test_Transitive_Closure()"
      ],
      "metadata": {
        "colab": {
          "base_uri": "https://localhost:8080/"
        },
        "id": "momUQBvevWaW",
        "outputId": "cd9666f7-0ee1-40ef-fae7-af46a7acf06c"
      },
      "execution_count": 97,
      "outputs": [
        {
          "output_type": "stream",
          "name": "stdout",
          "text": [
            "Функция Floyd_Warshall работает корректно\n"
          ]
        }
      ]
    }
  ]
}