{
  "nbformat": 4,
  "nbformat_minor": 0,
  "metadata": {
    "colab": {
      "provenance": []
    },
    "kernelspec": {
      "name": "python3",
      "display_name": "Python 3"
    },
    "language_info": {
      "name": "python"
    }
  },
  "cells": [
    {
      "cell_type": "code",
      "execution_count": 11,
      "metadata": {
        "id": "LgDFqKgAVPT0"
      },
      "outputs": [],
      "source": [
        "#pip install python-graphblas[default]"
      ]
    },
    {
      "cell_type": "code",
      "source": [
        "import graphblas as gb\n",
        "from graphblas import Matrix, Vector\n",
        "from graphblas import unary, binary, monoid, semiring, dtypes"
      ],
      "metadata": {
        "id": "NWIBLUxmVmPK"
      },
      "execution_count": 2,
      "outputs": []
    },
    {
      "cell_type": "markdown",
      "source": [
        "Используя python-graphblas реализовать функцию **PageRank** с параметрами из лекции."
      ],
      "metadata": {
        "id": "K-xpbssQY4BM"
      }
    },
    {
      "cell_type": "code",
      "source": [
        "def PageRank(A, damping=0.85, itermax=100, tol=1e-4):\n",
        "    N = A.nrows\n",
        "    A << A.apply(unary.one)\n",
        "    r_i = Vector(dtypes.FP32, N)\n",
        "    r_j = Vector(dtypes.FP32, N)\n",
        "    r_j[:] << 1.0 / N\n",
        "    rdiff = 1\n",
        "    d = A.reduce_rowwise(monoid.plus).new(dtype=\"FP32\")\n",
        "    d(accum=binary.truediv)[:] << damping\n",
        "\n",
        "    for i in range(itermax):\n",
        "        if rdiff <= tol:\n",
        "            break\n",
        "        r_i = r_j\n",
        "        r_j = A.T.mxv(r_i.ewise_mult(d, binary.truediv), semiring.plus_second) + (1 - damping) / N\n",
        "        rdiff = abs(r_j - r_i).reduce(monoid.plus)\n",
        "\n",
        "    return r_j, i"
      ],
      "metadata": {
        "id": "uYFIw-8IVtru"
      },
      "execution_count": 3,
      "outputs": []
    },
    {
      "cell_type": "markdown",
      "source": [
        "Добавить необходимые тесты и небольшие примеры."
      ],
      "metadata": {
        "id": "hy1FScF0ZvCb"
      }
    },
    {
      "cell_type": "code",
      "source": [
        "A = Matrix.from_coo(\n",
        "    [0, 0, 1, 2, 2, 3, 4],\n",
        "    [1, 2, 3, 3, 4, 4, 0],\n",
        "    [1.1, 9.8, 4.2, 7.1, 0.2, 6.9, 2.2],\n",
        ")\n",
        "A"
      ],
      "metadata": {
        "colab": {
          "base_uri": "https://localhost:8080/",
          "height": 276
        },
        "id": "UGfaiKvhyByV",
        "outputId": "cad837e2-e406-4a78-a799-a8d863df27e8"
      },
      "execution_count": 4,
      "outputs": [
        {
          "output_type": "execute_result",
          "data": {
            "text/plain": [
              "\"M_0\"      nvals  nrows  ncols  dtype   format\n",
              "gb.Matrix      7      5      5   FP64  bitmapr\n",
              "----------------------------------------------\n",
              "     0    1    2    3    4\n",
              "0       1.1  9.8          \n",
              "1                 4.2     \n",
              "2                 7.1  0.2\n",
              "3                      6.9\n",
              "4  2.2                    "
            ],
            "text/html": [
              "<div>\n",
              "<style>\n",
              "table.gb-info-table {\n",
              "    border: 1px solid black;\n",
              "    max-width: 100%;\n",
              "    margin-top: 0px;\n",
              "    margin-bottom: 0px;\n",
              "    padding-top: 0px;\n",
              "    padding-bottom: 0px;\n",
              "}\n",
              "\n",
              "td.gb-info-name-cell {\n",
              "    white-space: nowrap;\n",
              "}\n",
              "\n",
              "details.gb-arg-details {\n",
              "    margin-top: 0px;\n",
              "    margin-bottom: 0px;\n",
              "    padding-top: 0px;\n",
              "    padding-bottom: 5px;\n",
              "    margin-left: 10px;\n",
              "}\n",
              "\n",
              "summary.gb-arg-summary {\n",
              "    display: list-item;\n",
              "    outline: none;\n",
              "    margin-top: 0px;\n",
              "    margin-bottom: 0px;\n",
              "    padding-top: 0px;\n",
              "    padding-bottom: 0px;\n",
              "    margin-left: -10px;\n",
              "}\n",
              "\n",
              "details.gb-expr-details {\n",
              "    margin-top: 0px;\n",
              "    margin-bottom: 0px;\n",
              "    padding-top: 0px;\n",
              "    padding-bottom: 5px;\n",
              "}\n",
              "\n",
              "summary.gb-expr-summary {\n",
              "    display: list-item;\n",
              "    outline: none;\n",
              "    margin-top: 0px;\n",
              "    margin-bottom: 0px;\n",
              "    padding-top: 0px;\n",
              "    padding-bottom: 0px;\n",
              "}\n",
              "\n",
              "blockquote.gb-expr-blockquote {\n",
              "    margin-top: 5px;\n",
              "    margin-bottom: 0px;\n",
              "    padding-top: 0px;\n",
              "    padding-bottom: 0px;\n",
              "    margin-left: 15px;\n",
              "}\n",
              "\n",
              ".gb-scalar {\n",
              "    margin-top: 0px;\n",
              "    margin-bottom: 0px;\n",
              "    padding-top: 0px;\n",
              "    padding-bottom: 5px;\n",
              "}\n",
              "\n",
              "/* modify pandas dataframe */\n",
              "table.dataframe {\n",
              "    margin-top: 0px;\n",
              "    margin-bottom: 0px;\n",
              "    padding-top: 0px;\n",
              "    padding-bottom: 0px;\n",
              "}\n",
              "\n",
              "/* expression tooltips */\n",
              ".expr-tooltip .tooltip-circle {\n",
              "    background: #9a9cc6;\n",
              "    color: #fff;\n",
              "    border-radius: 50%;\n",
              "    width: 40px;\n",
              "    height: 40px;\n",
              "    padding-left: 4px;\n",
              "    padding-right: 4px;\n",
              "}\n",
              ".expr-tooltip .tooltip-text {\n",
              "    visibility: hidden;\n",
              "    position: absolute;\n",
              "    width: 450px;\n",
              "    background: #eef;\n",
              "    border: 1px solid #99a;\n",
              "    text-align: left;\n",
              "    border-radius: 6px;\n",
              "    padding: 3px 3px 3px 8px;\n",
              "    margin-left: 6px;\n",
              "}\n",
              ".expr-tooltip:hover .tooltip-text {\n",
              "    visibility: visible;\n",
              "}\n",
              ".expr-tooltip code {\n",
              "    background-color: #f8ffed;\n",
              "}\n",
              "</style>\n",
              "<details open class=\"gb-arg-details\"><summary class=\"gb-arg-summary\"><tt>M<sub>0</sub></tt><div>\n",
              "<table class=\"gb-info-table\">\n",
              "  <tr>\n",
              "    <td rowspan=\"2\" class=\"gb-info-name-cell\"><pre>gb.Matrix</pre></td>\n",
              "    <td><pre>nvals</pre></td>\n",
              "    <td><pre>nrows</pre></td>\n",
              "    <td><pre>ncols</pre></td>\n",
              "    <td><pre>dtype</pre></td>\n",
              "    <td><pre>format</pre></td>\n",
              "  </tr>\n",
              "  <tr>\n",
              "    <td>7</td>\n",
              "    <td>5</td>\n",
              "    <td>5</td>\n",
              "    <td>FP64</td>\n",
              "    <td>bitmapr</td>\n",
              "  </tr>\n",
              "</table>\n",
              "</div>\n",
              "</summary><div>\n",
              "<style scoped>\n",
              "    .dataframe tbody tr th:only-of-type {\n",
              "        vertical-align: middle;\n",
              "    }\n",
              "\n",
              "    .dataframe tbody tr th {\n",
              "        vertical-align: top;\n",
              "    }\n",
              "\n",
              "    .dataframe thead th {\n",
              "        text-align: right;\n",
              "    }\n",
              "</style>\n",
              "<table border=\"1\" class=\"dataframe\">\n",
              "  <thead>\n",
              "    <tr style=\"text-align: right;\">\n",
              "      <th></th>\n",
              "      <th>0</th>\n",
              "      <th>1</th>\n",
              "      <th>2</th>\n",
              "      <th>3</th>\n",
              "      <th>4</th>\n",
              "    </tr>\n",
              "  </thead>\n",
              "  <tbody>\n",
              "    <tr>\n",
              "      <th>0</th>\n",
              "      <td></td>\n",
              "      <td>1.1</td>\n",
              "      <td>9.8</td>\n",
              "      <td></td>\n",
              "      <td></td>\n",
              "    </tr>\n",
              "    <tr>\n",
              "      <th>1</th>\n",
              "      <td></td>\n",
              "      <td></td>\n",
              "      <td></td>\n",
              "      <td>4.2</td>\n",
              "      <td></td>\n",
              "    </tr>\n",
              "    <tr>\n",
              "      <th>2</th>\n",
              "      <td></td>\n",
              "      <td></td>\n",
              "      <td></td>\n",
              "      <td>7.1</td>\n",
              "      <td>0.2</td>\n",
              "    </tr>\n",
              "    <tr>\n",
              "      <th>3</th>\n",
              "      <td></td>\n",
              "      <td></td>\n",
              "      <td></td>\n",
              "      <td></td>\n",
              "      <td>6.9</td>\n",
              "    </tr>\n",
              "    <tr>\n",
              "      <th>4</th>\n",
              "      <td>2.2</td>\n",
              "      <td></td>\n",
              "      <td></td>\n",
              "      <td></td>\n",
              "      <td></td>\n",
              "    </tr>\n",
              "  </tbody>\n",
              "</table>\n",
              "</div></details></div>"
            ]
          },
          "metadata": {},
          "execution_count": 4
        }
      ]
    },
    {
      "cell_type": "code",
      "source": [
        "gb.viz.draw(A)\n",
        "print(PageRank(A))"
      ],
      "metadata": {
        "colab": {
          "base_uri": "https://localhost:8080/",
          "height": 580
        },
        "id": "-S6WUX0KyIns",
        "outputId": "ef5268d5-50c4-4f91-f5cd-04a37da833c9"
      },
      "execution_count": 5,
      "outputs": [
        {
          "output_type": "display_data",
          "data": {
            "text/plain": [
              "<Figure size 640x480 with 1 Axes>"
            ],
            "image/png": "[encoded data removed]"
          },
          "metadata": {}
        },
        {
          "output_type": "stream",
          "name": "stdout",
          "text": [
            "(gb.VectorExpression                                         size  dtype\n",
            "v_184.apply(binary.plus[FP64], right=0.030000000000000006)     5   FP64\n",
            "\n",
            "\"Result\"   nvals  size  dtype\n",
            "gb.Vector      5     5   FP64\n",
            "-----------------------------\n",
            "index         0         1         2         3         4\n",
            "value  0.254213  0.138031  0.138031  0.205973  0.263752\n",
            "\n",
            "Do expr.new() or other << expr to calculate the expression., 37)\n"
          ]
        }
      ]
    },
    {
      "cell_type": "code",
      "source": [
        "import numpy as np\n",
        "matrix = np.array([[0, 1, 0, 0],\n",
        "                   [0, 0, 1, 0],\n",
        "                   [1, 0, 0, 1],\n",
        "                   [1, 0, 1, 0]])\n",
        "\n",
        "graph = gb.Matrix.from_dense(matrix,missing_value=0)\n",
        "graph"
      ],
      "metadata": {
        "id": "L0r_B9OLV3Vu",
        "colab": {
          "base_uri": "https://localhost:8080/",
          "height": 244
        },
        "outputId": "ebc0c71e-f6b9-4686-e32a-157269da4301"
      },
      "execution_count": 6,
      "outputs": [
        {
          "output_type": "execute_result",
          "data": {
            "text/plain": [
              "\"M_1\"      nvals  nrows  ncols  dtype   format\n",
              "gb.Matrix      6      4      4  INT64  bitmapr\n",
              "----------------------------------------------\n",
              "   0  1  2  3\n",
              "0     1      \n",
              "1        1   \n",
              "2  1        1\n",
              "3  1     1   "
            ],
            "text/html": [
              "<div>\n",
              "<style>\n",
              "table.gb-info-table {\n",
              "    border: 1px solid black;\n",
              "    max-width: 100%;\n",
              "    margin-top: 0px;\n",
              "    margin-bottom: 0px;\n",
              "    padding-top: 0px;\n",
              "    padding-bottom: 0px;\n",
              "}\n",
              "\n",
              "td.gb-info-name-cell {\n",
              "    white-space: nowrap;\n",
              "}\n",
              "\n",
              "details.gb-arg-details {\n",
              "    margin-top: 0px;\n",
              "    margin-bottom: 0px;\n",
              "    padding-top: 0px;\n",
              "    padding-bottom: 5px;\n",
              "    margin-left: 10px;\n",
              "}\n",
              "\n",
              "summary.gb-arg-summary {\n",
              "    display: list-item;\n",
              "    outline: none;\n",
              "    margin-top: 0px;\n",
              "    margin-bottom: 0px;\n",
              "    padding-top: 0px;\n",
              "    padding-bottom: 0px;\n",
              "    margin-left: -10px;\n",
              "}\n",
              "\n",
              "details.gb-expr-details {\n",
              "    margin-top: 0px;\n",
              "    margin-bottom: 0px;\n",
              "    padding-top: 0px;\n",
              "    padding-bottom: 5px;\n",
              "}\n",
              "\n",
              "summary.gb-expr-summary {\n",
              "    display: list-item;\n",
              "    outline: none;\n",
              "    margin-top: 0px;\n",
              "    margin-bottom: 0px;\n",
              "    padding-top: 0px;\n",
              "    padding-bottom: 0px;\n",
              "}\n",
              "\n",
              "blockquote.gb-expr-blockquote {\n",
              "    margin-top: 5px;\n",
              "    margin-bottom: 0px;\n",
              "    padding-top: 0px;\n",
              "    padding-bottom: 0px;\n",
              "    margin-left: 15px;\n",
              "}\n",
              "\n",
              ".gb-scalar {\n",
              "    margin-top: 0px;\n",
              "    margin-bottom: 0px;\n",
              "    padding-top: 0px;\n",
              "    padding-bottom: 5px;\n",
              "}\n",
              "\n",
              "/* modify pandas dataframe */\n",
              "table.dataframe {\n",
              "    margin-top: 0px;\n",
              "    margin-bottom: 0px;\n",
              "    padding-top: 0px;\n",
              "    padding-bottom: 0px;\n",
              "}\n",
              "\n",
              "/* expression tooltips */\n",
              ".expr-tooltip .tooltip-circle {\n",
              "    background: #9a9cc6;\n",
              "    color: #fff;\n",
              "    border-radius: 50%;\n",
              "    width: 40px;\n",
              "    height: 40px;\n",
              "    padding-left: 4px;\n",
              "    padding-right: 4px;\n",
              "}\n",
              ".expr-tooltip .tooltip-text {\n",
              "    visibility: hidden;\n",
              "    position: absolute;\n",
              "    width: 450px;\n",
              "    background: #eef;\n",
              "    border: 1px solid #99a;\n",
              "    text-align: left;\n",
              "    border-radius: 6px;\n",
              "    padding: 3px 3px 3px 8px;\n",
              "    margin-left: 6px;\n",
              "}\n",
              ".expr-tooltip:hover .tooltip-text {\n",
              "    visibility: visible;\n",
              "}\n",
              ".expr-tooltip code {\n",
              "    background-color: #f8ffed;\n",
              "}\n",
              "</style>\n",
              "<details open class=\"gb-arg-details\"><summary class=\"gb-arg-summary\"><tt>M<sub>1</sub></tt><div>\n",
              "<table class=\"gb-info-table\">\n",
              "  <tr>\n",
              "    <td rowspan=\"2\" class=\"gb-info-name-cell\"><pre>gb.Matrix</pre></td>\n",
              "    <td><pre>nvals</pre></td>\n",
              "    <td><pre>nrows</pre></td>\n",
              "    <td><pre>ncols</pre></td>\n",
              "    <td><pre>dtype</pre></td>\n",
              "    <td><pre>format</pre></td>\n",
              "  </tr>\n",
              "  <tr>\n",
              "    <td>6</td>\n",
              "    <td>4</td>\n",
              "    <td>4</td>\n",
              "    <td>INT64</td>\n",
              "    <td>bitmapr</td>\n",
              "  </tr>\n",
              "</table>\n",
              "</div>\n",
              "</summary><div>\n",
              "<style scoped>\n",
              "    .dataframe tbody tr th:only-of-type {\n",
              "        vertical-align: middle;\n",
              "    }\n",
              "\n",
              "    .dataframe tbody tr th {\n",
              "        vertical-align: top;\n",
              "    }\n",
              "\n",
              "    .dataframe thead th {\n",
              "        text-align: right;\n",
              "    }\n",
              "</style>\n",
              "<table border=\"1\" class=\"dataframe\">\n",
              "  <thead>\n",
              "    <tr style=\"text-align: right;\">\n",
              "      <th></th>\n",
              "      <th>0</th>\n",
              "      <th>1</th>\n",
              "      <th>2</th>\n",
              "      <th>3</th>\n",
              "    </tr>\n",
              "  </thead>\n",
              "  <tbody>\n",
              "    <tr>\n",
              "      <th>0</th>\n",
              "      <td></td>\n",
              "      <td>1</td>\n",
              "      <td></td>\n",
              "      <td></td>\n",
              "    </tr>\n",
              "    <tr>\n",
              "      <th>1</th>\n",
              "      <td></td>\n",
              "      <td></td>\n",
              "      <td>1</td>\n",
              "      <td></td>\n",
              "    </tr>\n",
              "    <tr>\n",
              "      <th>2</th>\n",
              "      <td>1</td>\n",
              "      <td></td>\n",
              "      <td></td>\n",
              "      <td>1</td>\n",
              "    </tr>\n",
              "    <tr>\n",
              "      <th>3</th>\n",
              "      <td>1</td>\n",
              "      <td></td>\n",
              "      <td>1</td>\n",
              "      <td></td>\n",
              "    </tr>\n",
              "  </tbody>\n",
              "</table>\n",
              "</div></details></div>"
            ]
          },
          "metadata": {},
          "execution_count": 6
        }
      ]
    },
    {
      "cell_type": "code",
      "source": [
        "gb.viz.draw(graph)\n",
        "print(PageRank(graph))"
      ],
      "metadata": {
        "colab": {
          "base_uri": "https://localhost:8080/",
          "height": 580
        },
        "id": "BS-pQhChWA4Y",
        "outputId": "438c84cc-3259-4ab2-9525-6e87b3ec7145"
      },
      "execution_count": 7,
      "outputs": [
        {
          "output_type": "display_data",
          "data": {
            "text/plain": [
              "<Figure size 640x480 with 1 Axes>"
            ],
            "image/png": "[encoded data removed]"
          },
          "metadata": {}
        },
        {
          "output_type": "stream",
          "name": "stdout",
          "text": [
            "(gb.VectorExpression                                         size  dtype\n",
            "v_237.apply(binary.plus[FP64], right=0.037500000000000006)     4   FP64\n",
            "\n",
            "\"Result\"   nvals  size  dtype\n",
            "gb.Vector      4     4   FP64\n",
            "-----------------------------\n",
            "index     0     1         2         3\n",
            "value  0.25  0.25  0.324547  0.175453\n",
            "\n",
            "Do expr.new() or other << expr to calculate the expression., 10)\n"
          ]
        }
      ]
    },
    {
      "cell_type": "code",
      "source": [
        "import networkx as nx\n",
        "graph_nx = gb.io.to_networkx(graph)\n",
        "nx.pagerank(graph_nx, alpha=0.85, max_iter =100, tol=1e-4)"
      ],
      "metadata": {
        "colab": {
          "base_uri": "https://localhost:8080/"
        },
        "id": "3tSfw6twoRU6",
        "outputId": "fb461e79-9af4-4816-bbe1-7bf715234f3e"
      },
      "execution_count": 10,
      "outputs": [
        {
          "output_type": "execute_result",
          "data": {
            "text/plain": [
              "{0: 0.25, 1: 0.25, 2: 0.32459513336148926, 3: 0.1754048666385107}"
            ]
          },
          "metadata": {},
          "execution_count": 10
        }
      ]
    }
  ]
}